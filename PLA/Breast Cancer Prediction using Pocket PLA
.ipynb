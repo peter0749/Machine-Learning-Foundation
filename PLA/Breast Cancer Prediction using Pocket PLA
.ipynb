{
  "cells": [
    {
      "metadata": {
        "_uuid": "8f2839f25d086af736a60e9eeb907d3b93b6e0e5",
        "_cell_guid": "b1076dfc-b9ad-4769-8c92-a6c4dae69d19",
        "trusted": true
      },
      "cell_type": "code",
      "source": "# This Python 3 environment comes with many helpful analytics libraries installed\n# It is defined by the kaggle/python docker image: https://github.com/kaggle/docker-python\n# For example, here's several helpful packages to load in \n\nimport numpy as np # linear algebra\nimport pandas as pd # data processing, CSV file I/O (e.g. pd.read_csv)\n\n# Input data files are available in the \"../input/\" directory.\n# For example, running this (by clicking run or pressing Shift+Enter) will list the files in the input directory\n\nimport os\nprint(os.listdir(\"../input\"))\n\n# Any results you write to the current directory are saved as output.",
      "execution_count": 85,
      "outputs": [
        {
          "output_type": "stream",
          "text": "['data.csv']\n",
          "name": "stdout"
        }
      ]
    },
    {
      "metadata": {
        "trusted": true,
        "_uuid": "ce700027712846d3643129f37b287cfc2ea06376",
        "scrolled": true
      },
      "cell_type": "code",
      "source": "data = pd.read_csv('../input/data.csv')\ndata.head() # 觀察資料\n# malignant: +1\n# benign: -1",
      "execution_count": 86,
      "outputs": [
        {
          "output_type": "execute_result",
          "execution_count": 86,
          "data": {
            "text/plain": "         id diagnosis     ...       fractal_dimension_worst  Unnamed: 32\n0    842302         M     ...                       0.11890          NaN\n1    842517         M     ...                       0.08902          NaN\n2  84300903         M     ...                       0.08758          NaN\n3  84348301         M     ...                       0.17300          NaN\n4  84358402         M     ...                       0.07678          NaN\n\n[5 rows x 33 columns]",
            "text/html": "<div>\n<style scoped>\n    .dataframe tbody tr th:only-of-type {\n        vertical-align: middle;\n    }\n\n    .dataframe tbody tr th {\n        vertical-align: top;\n    }\n\n    .dataframe thead th {\n        text-align: right;\n    }\n</style>\n<table border=\"1\" class=\"dataframe\">\n  <thead>\n    <tr style=\"text-align: right;\">\n      <th></th>\n      <th>id</th>\n      <th>diagnosis</th>\n      <th>radius_mean</th>\n      <th>texture_mean</th>\n      <th>perimeter_mean</th>\n      <th>area_mean</th>\n      <th>smoothness_mean</th>\n      <th>compactness_mean</th>\n      <th>concavity_mean</th>\n      <th>concave points_mean</th>\n      <th>symmetry_mean</th>\n      <th>fractal_dimension_mean</th>\n      <th>radius_se</th>\n      <th>texture_se</th>\n      <th>perimeter_se</th>\n      <th>area_se</th>\n      <th>smoothness_se</th>\n      <th>compactness_se</th>\n      <th>concavity_se</th>\n      <th>concave points_se</th>\n      <th>symmetry_se</th>\n      <th>fractal_dimension_se</th>\n      <th>radius_worst</th>\n      <th>texture_worst</th>\n      <th>perimeter_worst</th>\n      <th>area_worst</th>\n      <th>smoothness_worst</th>\n      <th>compactness_worst</th>\n      <th>concavity_worst</th>\n      <th>concave points_worst</th>\n      <th>symmetry_worst</th>\n      <th>fractal_dimension_worst</th>\n      <th>Unnamed: 32</th>\n    </tr>\n  </thead>\n  <tbody>\n    <tr>\n      <th>0</th>\n      <td>842302</td>\n      <td>M</td>\n      <td>17.99</td>\n      <td>10.38</td>\n      <td>122.80</td>\n      <td>1001.0</td>\n      <td>0.11840</td>\n      <td>0.27760</td>\n      <td>0.3001</td>\n      <td>0.14710</td>\n      <td>0.2419</td>\n      <td>0.07871</td>\n      <td>1.0950</td>\n      <td>0.9053</td>\n      <td>8.589</td>\n      <td>153.40</td>\n      <td>0.006399</td>\n      <td>0.04904</td>\n      <td>0.05373</td>\n      <td>0.01587</td>\n      <td>0.03003</td>\n      <td>0.006193</td>\n      <td>25.38</td>\n      <td>17.33</td>\n      <td>184.60</td>\n      <td>2019.0</td>\n      <td>0.1622</td>\n      <td>0.6656</td>\n      <td>0.7119</td>\n      <td>0.2654</td>\n      <td>0.4601</td>\n      <td>0.11890</td>\n      <td>NaN</td>\n    </tr>\n    <tr>\n      <th>1</th>\n      <td>842517</td>\n      <td>M</td>\n      <td>20.57</td>\n      <td>17.77</td>\n      <td>132.90</td>\n      <td>1326.0</td>\n      <td>0.08474</td>\n      <td>0.07864</td>\n      <td>0.0869</td>\n      <td>0.07017</td>\n      <td>0.1812</td>\n      <td>0.05667</td>\n      <td>0.5435</td>\n      <td>0.7339</td>\n      <td>3.398</td>\n      <td>74.08</td>\n      <td>0.005225</td>\n      <td>0.01308</td>\n      <td>0.01860</td>\n      <td>0.01340</td>\n      <td>0.01389</td>\n      <td>0.003532</td>\n      <td>24.99</td>\n      <td>23.41</td>\n      <td>158.80</td>\n      <td>1956.0</td>\n      <td>0.1238</td>\n      <td>0.1866</td>\n      <td>0.2416</td>\n      <td>0.1860</td>\n      <td>0.2750</td>\n      <td>0.08902</td>\n      <td>NaN</td>\n    </tr>\n    <tr>\n      <th>2</th>\n      <td>84300903</td>\n      <td>M</td>\n      <td>19.69</td>\n      <td>21.25</td>\n      <td>130.00</td>\n      <td>1203.0</td>\n      <td>0.10960</td>\n      <td>0.15990</td>\n      <td>0.1974</td>\n      <td>0.12790</td>\n      <td>0.2069</td>\n      <td>0.05999</td>\n      <td>0.7456</td>\n      <td>0.7869</td>\n      <td>4.585</td>\n      <td>94.03</td>\n      <td>0.006150</td>\n      <td>0.04006</td>\n      <td>0.03832</td>\n      <td>0.02058</td>\n      <td>0.02250</td>\n      <td>0.004571</td>\n      <td>23.57</td>\n      <td>25.53</td>\n      <td>152.50</td>\n      <td>1709.0</td>\n      <td>0.1444</td>\n      <td>0.4245</td>\n      <td>0.4504</td>\n      <td>0.2430</td>\n      <td>0.3613</td>\n      <td>0.08758</td>\n      <td>NaN</td>\n    </tr>\n    <tr>\n      <th>3</th>\n      <td>84348301</td>\n      <td>M</td>\n      <td>11.42</td>\n      <td>20.38</td>\n      <td>77.58</td>\n      <td>386.1</td>\n      <td>0.14250</td>\n      <td>0.28390</td>\n      <td>0.2414</td>\n      <td>0.10520</td>\n      <td>0.2597</td>\n      <td>0.09744</td>\n      <td>0.4956</td>\n      <td>1.1560</td>\n      <td>3.445</td>\n      <td>27.23</td>\n      <td>0.009110</td>\n      <td>0.07458</td>\n      <td>0.05661</td>\n      <td>0.01867</td>\n      <td>0.05963</td>\n      <td>0.009208</td>\n      <td>14.91</td>\n      <td>26.50</td>\n      <td>98.87</td>\n      <td>567.7</td>\n      <td>0.2098</td>\n      <td>0.8663</td>\n      <td>0.6869</td>\n      <td>0.2575</td>\n      <td>0.6638</td>\n      <td>0.17300</td>\n      <td>NaN</td>\n    </tr>\n    <tr>\n      <th>4</th>\n      <td>84358402</td>\n      <td>M</td>\n      <td>20.29</td>\n      <td>14.34</td>\n      <td>135.10</td>\n      <td>1297.0</td>\n      <td>0.10030</td>\n      <td>0.13280</td>\n      <td>0.1980</td>\n      <td>0.10430</td>\n      <td>0.1809</td>\n      <td>0.05883</td>\n      <td>0.7572</td>\n      <td>0.7813</td>\n      <td>5.438</td>\n      <td>94.44</td>\n      <td>0.011490</td>\n      <td>0.02461</td>\n      <td>0.05688</td>\n      <td>0.01885</td>\n      <td>0.01756</td>\n      <td>0.005115</td>\n      <td>22.54</td>\n      <td>16.67</td>\n      <td>152.20</td>\n      <td>1575.0</td>\n      <td>0.1374</td>\n      <td>0.2050</td>\n      <td>0.4000</td>\n      <td>0.1625</td>\n      <td>0.2364</td>\n      <td>0.07678</td>\n      <td>NaN</td>\n    </tr>\n  </tbody>\n</table>\n</div>"
          },
          "metadata": {}
        }
      ]
    },
    {
      "metadata": {
        "trusted": true,
        "_uuid": "1b9b2426ee3ddefaa053e08d9cc709ed8ab8ae9a"
      },
      "cell_type": "code",
      "source": "X = np.array(data.iloc[:,2:-1], dtype=np.float32)\nY = np.array(data.iloc[:,1]=='M', dtype=np.int16)*2-1 # +1: malignant; -1: benign\nprint(X.shape) # Check feature shape\nprint(Y.shape) # Check label shape",
      "execution_count": 87,
      "outputs": [
        {
          "output_type": "stream",
          "text": "(569, 30)\n(569,)\n",
          "name": "stdout"
        }
      ]
    },
    {
      "metadata": {
        "trusted": true,
        "_uuid": "2dd9c631b71e503c2e61080ea9ca9e6b77f6dc44"
      },
      "cell_type": "code",
      "source": "from sklearn.model_selection import StratifiedKFold\nfrom sklearn.preprocessing import StandardScaler\n\nkfold = StratifiedKFold(n_splits=5, shuffle=True) # 5-fold cross validation\nscaler = StandardScaler(copy=True, with_mean=True, with_std=True)",
      "execution_count": 88,
      "outputs": []
    },
    {
      "metadata": {
        "_cell_guid": "79c7e3d0-c299-4dcb-8224-4455121ee9b0",
        "_uuid": "d629ff2d2480ee46fbb7e2d37f6b5fab8052498a",
        "trusted": true
      },
      "cell_type": "code",
      "source": "class PLA(object):\n    def __init__(self, x_dim, eta=1.0, shuffle=False, verbose=False):\n        self.shuffle = shuffle\n        self.verbose = verbose\n        self.eta = eta\n        self.Wxb = np.random.normal(0, np.sqrt(2/(x_dim+1)), size=(1,x_dim+1)) # initialize Wxb using he-normal\n    def predict(self, x, pocket=False):\n        X = np.append(x, [1], axis=-1)[...,np.newaxis]\n        pred = np.squeeze(self.Wxb @ X)\n        return -1 if pred<=0 else 1\n    def train(self, Xs, Ys):\n        updates = 0\n        correct_cnt = 0\n        i = 0\n        while correct_cnt<len(Xs): # cyclic method\n            if self.shuffle and correct_cnt==0:\n                idx = np.random.permutation(len(Xs))\n                Xs, Ys = Xs[idx], Ys[idx] # faster\n                i = 0\n            x, y = Xs[i], Ys[i]\n            p = self.predict(x)\n            if p!=y: # wrong\n                self.Wxb = self.Wxb + (self.eta*y*np.append(x, [1], axis=-1))[np.newaxis]\n                updates += 1\n                if self.verbose:\n                    print('iteration {:d}: '.format(updates), self.Wxb)\n                correct_cnt = 0\n            else:\n                correct_cnt += 1\n            i = (i+1)%len(Xs)\n        return updates\n\nclass PocketPLA(PLA):\n    def __init__(self, x_dim, eta=1.0, pocket_maxiter=None, shuffle=False, verbose=False):\n        super(PocketPLA, self).__init__(x_dim, eta=eta, shuffle=shuffle, verbose=verbose)\n        self.pocket_maxiter = pocket_maxiter\n        self.Wxb_pocket = np.zeros_like(self.Wxb, dtype=np.float32) # (1, 4)\n    def predict(self, x, pocket=False):\n        W = self.Wxb_pocket if pocket else self.Wxb\n        X = np.append(x, [1], axis=-1)[...,np.newaxis]\n        pred = np.squeeze(W @ X)\n        return -1 if pred<=0 else 1\n    def train(self, Xs, Ys):\n        updates = 0\n        last_errors = np.inf\n        while True:\n            if self.shuffle: # precomputed random order; else: naive cyclic\n                idx = np.random.permutation(len(Xs))\n                Xs, Ys = Xs[idx], Ys[idx] # faster\n            for x, y in zip(Xs, Ys):\n                p = self.predict(x)\n                if p!=y: # wrong\n                    self.Wxb = self.Wxb + (self.eta*y*np.append(x, [1], axis=-1))[np.newaxis]\n                    updates += 1\n                    break\n            errors = 0\n            for x, y in zip(Xs, Ys):\n                p = self.predict(x)\n                errors += 1 if p!=y else 0\n            if errors < last_errors:\n                last_errors = errors\n                self.Wxb_pocket = self.Wxb.copy()\n                if self.verbose:\n                    print('iteration {:d}: update pocket weights: err: {:.2f}'.format(updates, errors/len(Xs)))\n            if updates>=self.pocket_maxiter or last_errors==0:\n                return last_errors\n",
      "execution_count": 89,
      "outputs": []
    },
    {
      "metadata": {
        "trusted": true,
        "_uuid": "7e15a2c5a6e4694d19d2f4b715933ce99683bea1"
      },
      "cell_type": "code",
      "source": "from sklearn.metrics import accuracy_score, f1_score, recall_score, precision_score\nfrom IPython.display import display",
      "execution_count": 90,
      "outputs": []
    },
    {
      "metadata": {
        "trusted": true,
        "_uuid": "e51560921f26e1bf9590f072ac2e696f9257bdb5"
      },
      "cell_type": "code",
      "source": "max_iteration = 3000\neta = 0.5",
      "execution_count": 91,
      "outputs": []
    },
    {
      "metadata": {
        "trusted": true,
        "_uuid": "ca1a46bcd352854a6a36b66d94115213e33383fd"
      },
      "cell_type": "code",
      "source": "accs = []\nprecs = []\nrecs = []\nf1s = []\nfor train, valid in kfold.split(X, Y):\n    print('{:d} samples for training, {:d} samples for validation.'.format(len(train), len(valid)))\n    X_train, Y_train = X[train], Y[train]\n    X_valid, Y_valid = X[valid], Y[valid]\n    X_train = scaler.fit_transform(X_train) # only fit on training set\n    X_valid = scaler.transform(X_valid)\n    pocket_pla = PocketPLA(X_train.shape[-1], eta=eta, pocket_maxiter=max_iteration, shuffle=True)\n    pocket_pla.train(X_train, Y_train) # apply pla\n    preds = np.asarray([pocket_pla.predict(x) for x in X_valid], dtype=np.int16) # prediction\n    acc = accuracy_score(Y_valid, preds) # evaluations\n    precision = precision_score(Y_valid, preds)\n    recall = recall_score(Y_valid, preds)\n    f1 = f1_score(Y_valid, preds)\n    accs.append(acc)\n    precs.append(precision)\n    recs.append(recall)\n    f1s.append(f1)\n    print('acc: {:.2f}, precision: {:.2f}, recall: {:.2f}, f1: {:.2f}'.format(acc,precision,recall, f1))",
      "execution_count": 92,
      "outputs": [
        {
          "output_type": "stream",
          "text": "454 samples for training, 115 samples for validation.\nacc: 0.98, precision: 0.98, recall: 0.98, f1: 0.98\n454 samples for training, 115 samples for validation.\nacc: 0.96, precision: 0.93, recall: 0.95, f1: 0.94\n456 samples for training, 113 samples for validation.\nacc: 0.96, precision: 0.97, recall: 0.93, f1: 0.95\n456 samples for training, 113 samples for validation.\nacc: 0.94, precision: 0.91, recall: 0.93, f1: 0.92\n456 samples for training, 113 samples for validation.\nacc: 0.96, precision: 0.91, recall: 1.00, f1: 0.95\n",
          "name": "stdout"
        }
      ]
    },
    {
      "metadata": {
        "trusted": true,
        "_uuid": "f5a56bc2ef727db6f796c14aa14a0a7accaded25"
      },
      "cell_type": "code",
      "source": "am, pm, rm, fm = np.mean(accs), np.mean(precs), np.mean(recs), np.mean(f1s)\nad, pd_, rd, fd = np.std(accs), np.std(precs), np.std(recs), np.std(f1s)",
      "execution_count": 93,
      "outputs": []
    },
    {
      "metadata": {
        "trusted": true,
        "_uuid": "5a12ec516f44ef4d499978971851d4636eb1b7e8"
      },
      "cell_type": "code",
      "source": "print('acc: {:.2f}+/-{:.2f}, precision: {:.2f}+/-{:.2f}, recall: {:.2f}+/-{:.2f}, f1: {:.2f}+/-{:.2f}'.format(am, ad, pm, pd_, rm, rd, fm, fd))",
      "execution_count": 94,
      "outputs": [
        {
          "output_type": "stream",
          "text": "acc: 0.96+/-0.01, precision: 0.94+/-0.03, recall: 0.96+/-0.03, f1: 0.95+/-0.02\n",
          "name": "stdout"
        }
      ]
    }
  ],
  "metadata": {
    "kernelspec": {
      "display_name": "Python 3",
      "language": "python",
      "name": "python3"
    },
    "language_info": {
      "name": "python",
      "version": "3.6.6",
      "mimetype": "text/x-python",
      "codemirror_mode": {
        "name": "ipython",
        "version": 3
      },
      "pygments_lexer": "ipython3",
      "nbconvert_exporter": "python",
      "file_extension": ".py"
    }
  },
  "nbformat": 4,
  "nbformat_minor": 1
}