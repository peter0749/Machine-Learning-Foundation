{
 "cells": [
  {
   "cell_type": "code",
   "execution_count": 1,
   "metadata": {},
   "outputs": [],
   "source": [
    "import os\n",
    "import numpy as np\n"
   ]
  },
  {
   "cell_type": "code",
   "execution_count": 2,
   "metadata": {},
   "outputs": [],
   "source": [
    "class PLA(object): # 懶惰就把 PLA, PocketPLA 寫在一起了\n",
    "    def __init__(self, x_dim, eta=1.0, pocket_maxiter=None, shuffle=False, verbose=False):\n",
    "        self.shuffle = shuffle\n",
    "        self.verbose = verbose\n",
    "        self.eta = eta\n",
    "        self.pocket_maxiter = pocket_maxiter\n",
    "        self.Wxb = np.zeros((1,x_dim+1), dtype=np.float32) # (1, 4)\n",
    "        if not self.pocket_maxiter is None:\n",
    "            self.Wxb_pocket = np.zeros_like(self.Wxb, dtype=np.float32) # (1, 4)\n",
    "    def predict(self, x, pocket=False):\n",
    "        W = self.Wxb_pocket if pocket and (not self.pocket_maxiter is None) else self.Wxb\n",
    "        X = np.append(x, [1], axis=-1)[...,np.newaxis]\n",
    "        pred = np.squeeze(W @ X)\n",
    "        return -1 if pred<=0 else 1\n",
    "    def train(self, Xs, Ys):\n",
    "        updates = 0\n",
    "        last_errors = np.inf\n",
    "        while True:\n",
    "            if self.shuffle:\n",
    "                idx = np.random.permutation(len(Xs))\n",
    "                Xs, Ys = Xs[idx], Ys[idx] # faster\n",
    "            success = True\n",
    "            for x, y in zip(Xs, Ys):\n",
    "                p = self.predict(x)\n",
    "                if p!=y: # wrong\n",
    "                    self.Wxb = self.Wxb + (self.eta*y*np.append(x, [1], axis=-1))[np.newaxis]\n",
    "                    updates += 1\n",
    "                    if self.verbose:\n",
    "                        print('iteration {:d}: '.format(updates), self.Wxb)\n",
    "                    success = False\n",
    "                    break\n",
    "            if not self.pocket_maxiter is None:\n",
    "                errors = 0\n",
    "                for x, y in zip(Xs, Ys):\n",
    "                    p = self.predict(x)\n",
    "                    errors += 1 if p!=y else 0\n",
    "                if errors < last_errors:\n",
    "                    last_errors = errors\n",
    "                    self.Wxb_pocket = self.Wxb.copy()\n",
    "                if updates>=self.pocket_maxiter:\n",
    "                    return last_errors\n",
    "            if success:\n",
    "                return updates"
   ]
  },
  {
   "cell_type": "code",
   "execution_count": 3,
   "metadata": {},
   "outputs": [],
   "source": [
    "def data_reader(filepath):\n",
    "    with open(filepath, 'r') as fp:\n",
    "        x = []\n",
    "        y = []\n",
    "        for line in fp:\n",
    "            split_line = line.split()\n",
    "            x.append(split_line[:-1])\n",
    "            y.append(split_line[-1])\n",
    "\n",
    "    x = np.asarray(x, dtype=np.float32)\n",
    "    y = np.asarray(y, dtype=np.int16)\n",
    "    return x, y"
   ]
  },
  {
   "cell_type": "code",
   "execution_count": 4,
   "metadata": {},
   "outputs": [],
   "source": [
    "if not os.path.exists('./hw1_15_train.dat'):\n",
    "    ! wget \"https://www.csie.ntu.edu.tw/~htlin/mooc/datasets/mlfound_math/hw1_15_train.dat\"\n",
    "if not os.path.exists('./hw1_18_train.dat'):\n",
    "    ! wget \"https://www.csie.ntu.edu.tw/~htlin/mooc/datasets/mlfound_math/hw1_18_train.dat\"\n",
    "if not os.path.exists('./hw1_18_test.dat'):\n",
    "    ! wget \"https://www.csie.ntu.edu.tw/~htlin/mooc/datasets/mlfound_math/hw1_18_test.dat\""
   ]
  },
  {
   "cell_type": "code",
   "execution_count": 5,
   "metadata": {},
   "outputs": [],
   "source": [
    "x, y = data_reader('./hw1_15_train.dat')"
   ]
  },
  {
   "cell_type": "code",
   "execution_count": 6,
   "metadata": {},
   "outputs": [
    {
     "name": "stdout",
     "output_type": "stream",
     "text": [
      "#iteration: 60\n"
     ]
    }
   ],
   "source": [
    "pla = PLA(x.shape[-1])\n",
    "iterations = pla.train(x, y)\n",
    "print('#iteration: {:d}'.format(iterations))"
   ]
  },
  {
   "cell_type": "code",
   "execution_count": 7,
   "metadata": {},
   "outputs": [],
   "source": [
    "from tqdm import tqdm"
   ]
  },
  {
   "cell_type": "code",
   "execution_count": 8,
   "metadata": {},
   "outputs": [
    {
     "name": "stderr",
     "output_type": "stream",
     "text": [
      "100%|██████████| 2000/2000 [00:19<00:00, 104.24it/s]"
     ]
    },
    {
     "name": "stdout",
     "output_type": "stream",
     "text": [
      "#iteration mean, std: 40.28, 12.25\n"
     ]
    },
    {
     "name": "stderr",
     "output_type": "stream",
     "text": [
      "\n"
     ]
    }
   ],
   "source": [
    "ites = []\n",
    "for _ in tqdm(range(2000), total=2000):\n",
    "    pla = PLA(x.shape[-1], shuffle=True)\n",
    "    iterations = pla.train(x, y)\n",
    "    ites.append(iterations)\n",
    "print('#iteration mean, std: {:.2f}, {:.2f}'.format(np.mean(ites), np.std(ites)))"
   ]
  },
  {
   "cell_type": "code",
   "execution_count": 9,
   "metadata": {},
   "outputs": [
    {
     "name": "stderr",
     "output_type": "stream",
     "text": [
      "100%|██████████| 2000/2000 [00:19<00:00, 104.60it/s]"
     ]
    },
    {
     "name": "stdout",
     "output_type": "stream",
     "text": [
      "#iteration mean, std: 40.08, 11.46\n"
     ]
    },
    {
     "name": "stderr",
     "output_type": "stream",
     "text": [
      "\n"
     ]
    }
   ],
   "source": [
    "ites = []\n",
    "for _ in tqdm(range(2000), total=2000):\n",
    "    pla = PLA(x.shape[-1], eta=0.5, shuffle=True)\n",
    "    iterations = pla.train(x, y)\n",
    "    ites.append(iterations)\n",
    "print('#iteration mean, std: {:.2f}, {:.2f}'.format(np.mean(ites), np.std(ites)))"
   ]
  },
  {
   "cell_type": "code",
   "execution_count": 10,
   "metadata": {},
   "outputs": [],
   "source": [
    "x_train, y_train = data_reader('./hw1_18_train.dat')\n",
    "x_test, y_test = data_reader('./hw1_18_test.dat')"
   ]
  },
  {
   "cell_type": "code",
   "execution_count": 11,
   "metadata": {},
   "outputs": [
    {
     "name": "stderr",
     "output_type": "stream",
     "text": [
      "100%|██████████| 2000/2000 [07:30<00:00,  4.44it/s]"
     ]
    },
    {
     "name": "stdout",
     "output_type": "stream",
     "text": [
      "error rate mean, std: 0.13, 0.03\n"
     ]
    },
    {
     "name": "stderr",
     "output_type": "stream",
     "text": [
      "\n"
     ]
    }
   ],
   "source": [
    "err_rates = []\n",
    "for _ in tqdm(range(2000), total=2000):\n",
    "    pla = PLA(x.shape[-1], pocket_maxiter=50, shuffle=True)\n",
    "    pla.train(x_train, y_train)\n",
    "    preds = np.squeeze(np.asarray([pla.predict(x, pocket=True) for x in x_test]))\n",
    "    err = (preds!=y_test).mean()\n",
    "    err_rates.append(err)\n",
    "print('error rate mean, std: {:.2f}, {:.2f}'.format(np.mean(err_rates), np.std(err_rates)))"
   ]
  },
  {
   "cell_type": "code",
   "execution_count": 12,
   "metadata": {},
   "outputs": [
    {
     "name": "stderr",
     "output_type": "stream",
     "text": [
      "100%|██████████| 2000/2000 [07:31<00:00,  4.43it/s]"
     ]
    },
    {
     "name": "stdout",
     "output_type": "stream",
     "text": [
      "error rate mean, std: 0.35, 0.17\n"
     ]
    },
    {
     "name": "stderr",
     "output_type": "stream",
     "text": [
      "\n"
     ]
    }
   ],
   "source": [
    "err_rates = []\n",
    "for _ in tqdm(range(2000), total=2000):\n",
    "    pla = PLA(x.shape[-1], pocket_maxiter=50, shuffle=True)\n",
    "    pla.train(x_train, y_train)\n",
    "    preds = np.squeeze(np.asarray([pla.predict(x, pocket=False) for x in x_test]))\n",
    "    err = (preds!=y_test).mean()\n",
    "    err_rates.append(err)\n",
    "print('error rate mean, std: {:.2f}, {:.2f}'.format(np.mean(err_rates), np.std(err_rates)))"
   ]
  },
  {
   "cell_type": "code",
   "execution_count": 13,
   "metadata": {},
   "outputs": [
    {
     "name": "stderr",
     "output_type": "stream",
     "text": [
      "100%|██████████| 2000/2000 [15:04<00:00,  2.21it/s]"
     ]
    },
    {
     "name": "stdout",
     "output_type": "stream",
     "text": [
      "error rate mean, std: 0.11, 0.02\n"
     ]
    },
    {
     "name": "stderr",
     "output_type": "stream",
     "text": [
      "\n"
     ]
    }
   ],
   "source": [
    "err_rates = []\n",
    "for _ in tqdm(range(2000), total=2000):\n",
    "    pla = PLA(x.shape[-1], pocket_maxiter=100, shuffle=True)\n",
    "    pla.train(x_train, y_train)\n",
    "    preds = np.squeeze(np.asarray([pla.predict(x, pocket=True) for x in x_test]))\n",
    "    err = (preds!=y_test).mean()\n",
    "    err_rates.append(err)\n",
    "print('error rate mean, std: {:.2f}, {:.2f}'.format(np.mean(err_rates), np.std(err_rates)))"
   ]
  }
 ],
 "metadata": {
  "kernelspec": {
   "display_name": "Python 3",
   "language": "python",
   "name": "python3"
  },
  "language_info": {
   "codemirror_mode": {
    "name": "ipython",
    "version": 3
   },
   "file_extension": ".py",
   "mimetype": "text/x-python",
   "name": "python",
   "nbconvert_exporter": "python",
   "pygments_lexer": "ipython3",
   "version": "3.6.4"
  }
 },
 "nbformat": 4,
 "nbformat_minor": 2
}
